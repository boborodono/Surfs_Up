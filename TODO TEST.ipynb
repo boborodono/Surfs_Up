{
 "cells": [
  {
   "cell_type": "code",
   "execution_count": null,
   "metadata": {},
   "outputs": [],
   "source": [
    "NOTE: \n",
    "\n",
    "TODO: \n",
    "    \n",
    "FIXME: \n",
    "    \n",
    "DEBUG:\n",
    "    \n",
    "REVIEW:\n",
    "    \n",
    "    # ! AKLSJDAJKSDFAL;DS! \n",
    "    # ? ALSDKFIOADSFOIJASODI?\n",
    "    # ?\n",
    "    # // ashdiuhasiuhdfpoahjo  \n",
    "    # * fahdkhaskldjfkasdklfj;lkjasdflk;j\n",
    "    "
   ]
  }
 ],
 "metadata": {
  "language_info": {
   "name": "python"
  },
  "orig_nbformat": 4
 },
 "nbformat": 4,
 "nbformat_minor": 2
}
